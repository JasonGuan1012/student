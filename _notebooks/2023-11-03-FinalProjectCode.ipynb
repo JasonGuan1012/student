{
 "cells": [
  {
   "cell_type": "markdown",
   "metadata": {},
   "source": [
    "---\n",
    "title: Final Project - Student ReviewTicket - Individual Code\n",
    "toc: true\n",
    "comments: false\n",
    "layout: post\n",
    "description: Code contribution to the project, GitHub analytics review, and notes...\n",
    "type: plans\n",
    "courses: {compsci: {'week': 12}}\n",
    "---"
   ]
  },
  {
   "cell_type": "markdown",
   "metadata": {},
   "source": [
    "# Student Review - Individual Code\n",
    ">\n",
    "\n"
   ]
  },
  {
   "cell_type": "markdown",
   "metadata": {},
   "source": [
    "## Key codes in the Passion Project\n",
    ">\n",
    "- The key codes that I contributed in the \"Passion Project\" that can considered changing the look of the webpage."
   ]
  },
  {
   "cell_type": "markdown",
   "metadata": {},
   "source": [
    "### **LightSwitch**\n",
    "> \n",
    "- What the light switch does is basically changing the overall theme color and the overall text color."
   ]
  },
  {
   "cell_type": "markdown",
   "metadata": {},
   "source": [
    "#### *HTML and CSS codes of LightSwtich*"
   ]
  },
  {
   "cell_type": "code",
   "execution_count": null,
   "metadata": {
    "vscode": {
     "languageId": "html"
    }
   },
   "outputs": [],
   "source": [
    "<head>\n",
    "    <style>\n",
    "        *{\n",
    "                box-sizing: border-box;\n",
    "            }\n",
    "            .label{\n",
    "                background-color: #111;\n",
    "                display: flex;\n",
    "                align-items: center;\n",
    "                justify-content: space-between;\n",
    "                position: relative;\n",
    "                border-radius: 50px;\n",
    "                padding: 5px;\n",
    "                height: 26px;\n",
    "                width: 50px;\n",
    "            }\n",
    "            body{\n",
    "                transition: background 0.14s linear;\n",
    "            }\n",
    "            body.dark{\n",
    "                background-color: #191d2b;\n",
    "            }\n",
    "            .checkbox{\n",
    "                opacity: 0;\n",
    "                position: absolute;\n",
    "            }\n",
    "            .ball{\n",
    "                background-color: #ffffff;\n",
    "                border-radius: 50%;\n",
    "                position: absolute;\n",
    "                top: 2px;\n",
    "                left: 2px;\n",
    "                width: 22px;\n",
    "                height: 22px;\n",
    "                transition: transform 0.15s linear;\n",
    "            }\n",
    "            .checkbox:checked + .label .ball {\n",
    "                transform: translateX(24px);\n",
    "            }\n",
    "            .fa-moon{\n",
    "                color: #f1c40f;\n",
    "            }\n",
    "            .fa-sun{\n",
    "                color: #f39c12;\n",
    "            }\n",
    "            .light-text{\n",
    "                color: #3A3B3C;\n",
    "            }\n",
    "            .dark-text{ \n",
    "                color: #CCCCCC;\n",
    "            }\n",
    "    </style>\n",
    "</head>\n",
    "        <body>\n",
    "            <div>\n",
    "                <input type=\"checkbox\"\n",
    "                    class=\"checkbox\" id=\"checkbox\" >\n",
    "            <label for=\"checkbox\" class=\"label\">\n",
    "                <i class=\"fas fa-moon\"></i>\n",
    "                <i class=\"fas fa-sun\"></i>\n",
    "                <div class=\"ball\"></div>\n",
    "            </label>\n",
    "            </div>\n",
    "        </body>\n",
    "\n",
    "\n",
    "\n"
   ]
  },
  {
   "cell_type": "markdown",
   "metadata": {},
   "source": [
    "#### *Javascript codes of LightSwtich*"
   ]
  },
  {
   "cell_type": "code",
   "execution_count": null,
   "metadata": {
    "vscode": {
     "languageId": "javascript"
    }
   },
   "outputs": [],
   "source": [
    "const checkbox = document.getElementById('checkbox');\n",
    "const textElements = document.querySelectorAll('.p1, .p2, h1');\n",
    "checkbox.addEventListener('change', () => {\n",
    "document.body.classList.toggle('dark');\n",
    "//change the overall theme color.\n",
    "textElements.forEach((element) => {\n",
    "element.classList.toggle('dark-text');\n",
    "element.classList.toggle('light-text');\n",
    "//change the overall text color.\n",
    "});\n",
    "});"
   ]
  },
  {
   "cell_type": "markdown",
   "metadata": {},
   "source": [
    " ##### This codes(LightSwitch) does being a key part to the project\n",
    ">\n",
    "- First, it reduces eye strain - dark mode reduces the amount of bright light emitted by screens, which can be particularly helpful in low-light environments. \n",
    "- Second, it improved readability.  \n",
    "- Lastly, the aesthetically pleasing - many users find dark mode visually appealing, and it can give websites a modern and stylish look."
   ]
  },
  {
   "cell_type": "markdown",
   "metadata": {},
   "source": [
    "### **Customized Button**\n",
    ">\n",
    "- A button that is not default. Meaning that it's being cutomized and making the webpage look nicer. "
   ]
  },
  {
   "cell_type": "markdown",
   "metadata": {},
   "source": [
    "#### *HTML and CSS codes of Customized Button*"
   ]
  },
  {
   "cell_type": "code",
   "execution_count": null,
   "metadata": {
    "vscode": {
     "languageId": "html"
    }
   },
   "outputs": [],
   "source": [
    "<head>\n",
    "    <style>.a {\n",
    "        position: relative;\n",
    "        padding: 13px 24px;\n",
    "        display: flex;\n",
    "        justify-content: center;\n",
    "        align-items: center;\n",
    "        background: rgba(0, 0, 0, 0.5);\n",
    "        margin: 10px;\n",
    "        transition: 1s;\n",
    "        text-decoration: none;\n",
    "        overflow: hidden;\n",
    "        -webkit-box-reflect: below 1px linear-gradient(transparent, transparent, #0004);\n",
    "    }\n",
    "    .a:hover {\n",
    "        background: var(--clr);\n",
    "        box-shadow: 0 0 10px var(--clr), 0 0 30px var(--clr);\n",
    "    }\n",
    "    .a::before {\n",
    "        content: '';\n",
    "        position: absolute;\n",
    "        width: 40px;\n",
    "        height: 420%;\n",
    "        background: var(--clr);\n",
    "        transition: 1s;\n",
    "        animation: animate 2s linear infinite;\n",
    "        animation-delay: calc(0.33s * var(--i));\n",
    "    }\n",
    "    .a:hover::before {\n",
    "        width: 1200%;\n",
    "    }\n",
    "    @keyframes animate {\n",
    "        0% {\n",
    "            transform: rotate(0deg);\n",
    "        }\n",
    "        100% {\n",
    "            transform: rotate(360deg);\n",
    "        }\n",
    "    }\n",
    "    .a::after {\n",
    "        content: '';\n",
    "        position: absolute;\n",
    "        inset: 4px;\n",
    "        background: #011e41;\n",
    "    }\n",
    "    .a:hover::after {\n",
    "        background: var(--clr);\n",
    "    }\n",
    "    .a span {\n",
    "        position: relative;\n",
    "        z-index: 1;\n",
    "        font-size: 2em;\n",
    "        color: #ffcf01;\n",
    "        font-family: 'IBM Plex Sans Hebrew', monospace;\n",
    "        opacity: 0.7;\n",
    "        text-transform: uppercase;\n",
    "        letter-spacing: 4px;\n",
    "        transition: 0.5s;\n",
    "    }\n",
    "    .a:hover span {\n",
    "        opacity: 1;\n",
    "    }\n",
    "    </style>\n",
    "</head>\n",
    "\n",
    "<body>\n",
    "    <div style=\"--clr: \t#6da7d9;--i:0;\">\n",
    "        <button id=\"manipulateButton\" class=\"a\"><a href=\"#\"><span><strong>Pixelate!</strong></span></a></button>\n",
    "    </div>\n",
    "</body>\n"
   ]
  },
  {
   "cell_type": "markdown",
   "metadata": {},
   "source": [
    " ##### This codes(Customized Button) does being a key part to the project\n",
    ">\n",
    "- The User Experience is what I was trying to achieve by using the Customized Button. This is because customized buttons enhance the overall user experience by making the website more visually appealing and user-friendly. A well-designed button is more engaging and encourages users to take action."
   ]
  }
 ],
 "metadata": {
  "kernelspec": {
   "display_name": "Python 3",
   "language": "python",
   "name": "python3"
  },
  "language_info": {
   "codemirror_mode": {
    "name": "ipython",
    "version": 3
   },
   "file_extension": ".py",
   "mimetype": "text/x-python",
   "name": "python",
   "nbconvert_exporter": "python",
   "pygments_lexer": "ipython3",
   "version": "3.10.12"
  },
  "orig_nbformat": 4
 },
 "nbformat": 4,
 "nbformat_minor": 2
}
