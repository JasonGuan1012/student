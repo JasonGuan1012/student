{
 "cells": [
  {
   "cell_type": "markdown",
   "metadata": {},
   "source": [
    "---\n",
    "title: Final Project - Student ReviewTicket - Individual Blog\n",
    "toc: true\n",
    "comments: false\n",
    "layout: post\n",
    "description: What I have been learning for the past 3 months\n",
    "type: plans\n",
    "courses: {compsci: {'week': 12}}\n",
    "---"
   ]
  },
  {
   "cell_type": "markdown",
   "metadata": {},
   "source": [
    "# Student Review - Individual Blog\n",
    ">"
   ]
  },
  {
   "cell_type": "markdown",
   "metadata": {},
   "source": [
    "## Student Teaching Notes\n",
    "\n",
    "- \n",
    "    - "
   ]
  },
  {
   "cell_type": "markdown",
   "metadata": {},
   "source": [
    "## CB Quiz\n",
    "\n",
    "- The score that I got in CB Quiz is ?/66\n",
    "    - "
   ]
  },
  {
   "cell_type": "markdown",
   "metadata": {},
   "source": [
    "## Reflection - tri 1\n",
    "\n",
    "- Over the past 3 months, I not only learned different computer languages that I never met before, but also gained friends and teamwork.  \n",
    "    - In the past 3 months, I learned Python, HTML, Markdown, CSS, JavaScript, Pseudo Codes, etc...\n",
    "        - The codes that I'm pretty familiar with are HTML, CSS, and Pseudo Codes.\n",
    "            - HTML and CSS are because I was the main part of the FrontEnd in my Passion Project, Pseudo Codes is because I had Robotics last year and we used a lot of Pseudo Codes.\n",
    "        - Python and JavaScript are the computer languages that I definitely need to spend more time on so specialize in that area.\n",
    "    - Teamwork played a crucial role when we were doing the Passion Project.\n",
    "        - Everyone had their role, and of course, the role that we all have is very important to the project. We all took the role and were be responsible not just for the grade, but also for the whole team's efforts."
   ]
  }
 ],
 "metadata": {
  "language_info": {
   "name": "python"
  },
  "orig_nbformat": 4
 },
 "nbformat": 4,
 "nbformat_minor": 2
}
