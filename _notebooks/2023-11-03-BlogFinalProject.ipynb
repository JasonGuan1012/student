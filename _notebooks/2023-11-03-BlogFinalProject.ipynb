{
 "cells": [
  {
   "cell_type": "markdown",
   "metadata": {},
   "source": [
    "---\n",
    "title: Final Project - Student ReviewTicket - Individual Blog\n",
    "toc: true\n",
    "comments: false\n",
    "layout: post\n",
    "description: What I have been learning for the past 3 months\n",
    "type: plans\n",
    "courses: {compsci: {'week': 12}}\n",
    "---"
   ]
  },
  {
   "cell_type": "markdown",
   "metadata": {},
   "source": [
    "# Student Review - Individual Blog\n",
    ">"
   ]
  },
  {
   "cell_type": "markdown",
   "metadata": {},
   "source": [
    "## Team Teach\n"
   ]
  },
  {
   "cell_type": "markdown",
   "metadata": {},
   "source": [
    "### Our Team Teach - Boolean If\n",
    "- Being the first person who test the whole team teach to see if we can deliver what we originally wanted to be delivered.\n",
    "- Asking questions to my teammates about the Team Teach that we prepared, to see if we have anything that are unclear.\n",
    "\n",
    "### Homeworks Team Teach - Algorithms\n",
    ">\n",
    "- The homework from for Algorithms was a bit confusing to me but eventually I figured it out and successfully. \n",
    "    - I was confused about it because I misunderstood the question. Later, I asked the members who are in \"algorithms\" for exlanations, and they explained to me very patienly and clearly."
   ]
  },
  {
   "cell_type": "markdown",
   "metadata": {},
   "source": [
    "## Student Teaching Notes\n",
    "\n",
    "- **Data Abstraction**\n",
    "    - Variables are considered abstraction as they assign a value to another value. In other words, they basically describe values to each other.\n",
    "        - firstName = \"Jason\" # this is a string\n",
    "            print(firstName)\n",
    "\n",
    "            highScore = 33 # this is an integer\n",
    "            print(highScore)\n",
    "- **Algorithms**\n",
    "    - A finite set of instructions that accomplish a specific task.\n",
    "        - For example, When you go to bake cookies you use specific steps\n",
    "    - Sequencing are things that are done in order. \n",
    "    - Selection are to do first step, make decision(yes or no), step true or false(if, or, else)\n",
    "- **Boolean If**\n",
    "    - Relational Operators are used to compare two variables, returns a boolean.\n",
    "    - Data-type that can either be true or false\n",
    "    - Logic gates combine different boolean (true/false or 1/0) values into a single boolean value. As computers are composed of a bunch of binary/boolean values, logic gates are the “logic” of the computer (the ability to code).\n",
    "- **Iterations**v\n",
    "    - We learned about While loops, range, for loop, try and except, and Continue and Break.\n",
    "    - For loops is used to literate over a sequence. \n",
    "        - For instances, a list, tuple, string, or range.\n",
    "- **Developing Algorithms**\n",
    "    - An algorithm is a procedure or formula used for solving a problem. It has a sequence of events, inputs, and outputs.\n",
    "    - It is important because it solves a problem in a way that it can be applied to any similar problem. It allows the computer to solve the problem on its own w/o any form of human interference.\n",
    "- **List and Search**\n",
    "    - [] = List\n",
    "    - A Python list is an ordered and changeable collection of data objects. Unlike an array, which can contain objects of a single type, a list can contain a mixture of objects. They start from 0. (The 1st element would actually be the 0th element)\n",
    "- **Developing Procedures**\n",
    "    - A procedure is a named group of programming instructions with a purpose and is called to perform a task based on the commands.\n",
    "    - We also learned about what a return value is, and also class, which is an outline for a set of nested functions.\n",
    "- **Libraries**\n",
    "    - There are different types of libraries: Pandas, Scikit-Learn, TensorFlow, Matplotlib, etc...\n",
    "    - Te APIs explain how two separate pices of software interact w/h each other, and they also need documenttation to keep this communication gong.\n",
    "- **Simulations**\n",
    "    - A simulation is the use of a computer software to represent the dynamic responses of one system by the behaviour of another system modeled after it.\n",
    "    - We also learned about \"Random\", which is a buily-in python function that allow the user to draw a random value from a set range.\n",
    "    - A simulation uses a mathematical descriptions, or models, of a real system in the form of a computer program."
   ]
  },
  {
   "cell_type": "markdown",
   "metadata": {},
   "source": [
    "## CB Quiz\n",
    "\n",
    "- Here are the questions that I got wrong / Quiz Corrections\n",
    "    - Q5\n",
    "        - The correct answer is C not B because the code segment will set One word, ticket Price to 17 for all purchasers between the ages of 12 and 60, regardless of whether or not the movie is 3-D.\n",
    "    - Q8\n",
    "        - The correct answer is B instead of A because the name of the person who took a photo is not captured in the photo data.\n",
    "    - Q12\n",
    "        - The correct answer is B instead of A because approximation 30.6 million would be a better estimate for year 11.\n",
    "    - Q14\n",
    "        - The correct answer is C instead of B because the programs display different values.\n",
    "    - Q17\n",
    "        - The correct answer is D instead of A because A lack of access to devices contributes to the digital divide. This issue could be addressed by providing free or low-cost devices. Providing networks and infrastructure would address a lack of access to networks which also contributes to the digital divide.\n",
    "    - Q23\n",
    "        - The correct answer is B instead of C because there are multiple paths from P to S (for example, P to S and P to Q to S).\n",
    "    - Q24\n",
    "        - The correct answer is C instead of B because while some pairs of characters of the original string are replaced in the encoded string with a single character, this transformation is not lossy because the original version can be restored.\n",
    "    - Q27\n",
    "        - The correct answer is B instead of D because Inserting Win from true, between line 21 and line 22 will cause the loop to terminate after checking the first guess, regardless of whether the guess is correct.\n",
    "    - Q30\n",
    "        - The correct answer is D instead of C because this approximation assumes that the  Analysis procedure is called only four times.\n",
    "    - Q32\n",
    "        - The correct answer is A instead of D because there does not appear to be any correlation between number of hours spent using a smartphone and number of hours spent reading.\n",
    "    - Q34\n",
    "        - The correct answer is D instead of B because the number of mice changes each day as determined by the \"Next Day Population\" procedure.\n",
    "    - Q36\n",
    "        - The correct answer is B instead of D because if the fraction 2/3 were to be represented as an integer, it would be rounded or truncated to an integer value.\n",
    "    - Q37\n",
    "        - The correct answer is C instead of A because the code segment II also displays the correct average.\n",
    "    - Q38\n",
    "        - The correct answer is C instead of D because the expression \"NOT(count MOD 10 = 0)\" does not evaluate to \"true\" when \"count\" is a multiple of \"10\", so this code segment doesn't set \"cose\" to \"0\" appropriately.\n",
    "    - Q40\n",
    "        - The correct answer is D instead of C because the average increase in total points per student as a result of the score replacement policy can also be determined by calculating the differences between each student score before and after the replacement policy was applied.\n",
    "    - Q43\n",
    "        - The correct answer is A instead of C because sorting a list is not considered an undecidable problem.\n",
    "    - Q45\n",
    "        - The correct answer is C instead of A because the expression \"(NOT P) and (NOT Q)\" evaluates to \"false\" when \"P\" and \"Q\" differ in value. A \"NAND\" gate should only evaluate to \"false\" when both inputs are \"true\".\n",
    "    - Q55\n",
    "        - The correct answer is D instead of A because the procedure always returns false.\n",
    "    - Q56\n",
    "        - The correct answer is D instead of A because the program counts odd integers, not even integers.\n",
    "    - Q57\n",
    "        - The correct answer is B instead of A because this expression returns the string \"Huppy\".\n",
    "    - Q58\n",
    "        - The correct answer is A instead of B because the Internet can provide tools, information, and knowledge to crowdsourcing participants. However, there exist problems that cannot be solved in reasonable time, even with a distributed approach.\n",
    "    - Q60\n",
    "        - The correct answer is A and D because placing repeated code with procedure calls is an example of a procedural abstraction that may make it easier for a programmer to manage the complexity of a program.\n",
    "    - Q63\n",
    "        - The correct answer is B and D because if count is set to 0 repeatedly inside the loop, it will not provide an accurate count of the number of prime numbers in the list."
   ]
  },
  {
   "cell_type": "markdown",
   "metadata": {},
   "source": [
    "## Reflection - tri 1\n",
    "\n",
    "- Over the past 3 months, I not only learned different programming languages that I never met before, but also gained friends and teamwork.  \n",
    "\n",
    "    - In the past 3 months, I learned Python, HTML, Markdown, CSS, JavaScript, Pseudo Codes, etc...\n",
    "        - The codes that I'm pretty familiar with are HTML, CSS, and Pseudo Codes.\n",
    "            - HTML and CSS are because I was the main part of the FrontEnd in my Passion Project, Pseudo Codes is because I had Robotics last year and we used a lot of Pseudo Codes.\n",
    "        - Python and JavaScript are the programming languages that I definitely need to spend more time on so specialize in that area in the future.\n",
    "    - Teamwork played a crucial role when we were doing the Passion Project.\n",
    "        - Everyone had their own role, and of course, the role that we all have is very important to the project. We all took the role and were be responsible not just for the grade, but also for the whole team's efforts."
   ]
  }
 ],
 "metadata": {
  "language_info": {
   "name": "python"
  },
  "orig_nbformat": 4
 },
 "nbformat": 4,
 "nbformat_minor": 2
}
