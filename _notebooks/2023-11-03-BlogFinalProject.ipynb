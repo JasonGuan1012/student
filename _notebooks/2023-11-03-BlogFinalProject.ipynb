{
 "cells": [
  {
   "cell_type": "markdown",
   "metadata": {},
   "source": [
    "---\n",
    "title: Final Project - Student ReviewTicket - Individual Blog\n",
    "toc: true\n",
    "comments: false\n",
    "layout: post\n",
    "description: What I have been learning for the past 3 months\n",
    "type: plans\n",
    "courses: {compsci: {'week': 12}}\n",
    "---"
   ]
  },
  {
   "cell_type": "markdown",
   "metadata": {},
   "source": [
    "# Student Review - Individual Blog\n",
    ">"
   ]
  },
  {
   "cell_type": "markdown",
   "metadata": {},
   "source": [
    "## Student Teaching Notes\n",
    "\n",
    "- Data Abstraction\n",
    "    - \n",
    "- Algorithms\n",
    "    - \n",
    "- Boolean If\n",
    "    - \n",
    "- Iterations\n",
    "    - \n",
    "- Developing Algorithms\n",
    "    - \n",
    "- List and Search\n",
    "    - [] = List\n",
    "- Developing Procedures\n",
    "    - \n",
    "- Libraries\n",
    "    - \n",
    "- Simulations\n",
    "    - "
   ]
  },
  {
   "cell_type": "markdown",
   "metadata": {},
   "source": [
    "## CB Quiz\n",
    "\n",
    "- Here are the questions that I got wrong\n",
    "    - Q5\n",
    "        - The correct answer is C not B because the code segment will set One word, ticket Price to 17 for all purchasers between the ages of 12 and 60, regardless of whether or not the movie is 3-D.\n",
    "    - Q8\n",
    "        - The correct answer is B instead of A because the name of the person who took a photo is not captured in the photo data.\n",
    "    - Q12\n",
    "        - The correct answer is B instead of A because approximation 30.6 million would be a better estimate for year 11.\n",
    "    - Q14\n",
    "        - The correct answer is C instead of B because the programs display different values.\n",
    "    - Q17\n",
    "        - The correct answer is D instead of A because A lack of access to devices contributes to the digital divide. This issue could be addressed by providing free or low-cost devices. Providing networks and infrastructure would address a lack of access to networks which also contributes to the digital divide.\n",
    "    - Q23\n",
    "        - The correct answer is B instead of C because there are multiple paths from P to S (for example, P to S and P to Q to S).\n",
    "    - Q24\n",
    "        - The correct answer is C instead of B because while some pairs of characters of the original string are replaced in the encoded string with a single character, this transformation is not lossy because the original version can be restored.\n",
    "    - Q27\n",
    "        - The correct answer is B instead of D because Inserting Win from true, between line 21 and line 22 will cause the loop to terminate after checking the first guess, regardless of whether the guess is correct.\n",
    "    - Q30\n",
    "        - The correct answer is D instead of C because this approximation assumes that the  Analysis procedure is called only four times.\n",
    "    - Q32\n",
    "        - The correct answer is A instead of D because there does not appear to be any correlation between number of hours spent using a smartphone and number of hours spent reading.\n",
    "    - Q34\n",
    "        - The correct answer is D instead of B because the number of mice changes each day as determined by the \"Next Day Population\" procedure.\n",
    "    - Q36\n",
    "        - The correct answer is B instead of D because if the fraction 2/3 were to be represented as an integer, it would be rounded or truncated to an integer value.\n",
    "    - Q37\n",
    "        - The correct answer is C instead of A because the code segment II also displays the correct average.\n",
    "    - Q38\n",
    "        - The correct answer is C instead of D because the expression \"NOT(count MOD 10 = 0)\" does not evaluate to \"true\" when \"count\" is a multiple of \"10\", so this code segment doesn't set \"cose\" to \"0\" appropriately.\n",
    "    - Q40\n",
    "        - The correct answer is D instead of C because the average increase in total points per student as a result of the score replacement policy can also be determined by calculating the differences between each student score before and after the replacement policy was applied.\n",
    "    - Q43\n",
    "        - The correct answer is A instead of C because sorting a list is not considered an undecidable problem.\n",
    "    - Q45\n",
    "        - The correct answer is C instead of A because the expression \"(NOT P) and (NOT Q)\" evaluates to \"false\" when \"P\" and \"Q\" differ in value. A \"NAND\" gate should only evaluate to \"false\" when both inputs are \"true\".\n",
    "    - Q52\n",
    "        - The correct answer is C instead of A because the expression \"(NOT P) and (NOT Q)\" evaluates to \"false\" when \"P\" and \"Q\" differ in value. A \"NAND\" gate should only evaluate to \"false\" when both inputs are \"true\".\n",
    "    - Q55\n",
    "        - The correct answer is D instead of A because the procedure always returns false.\n",
    "    - Q56\n",
    "        - The correct answer is D instead of A because the program counts odd integers, not even integers.\n",
    "    - Q57\n",
    "        - The correct answer is B instead of A because this expression returns the string \"Huppy\".\n",
    "    - Q58\n",
    "        - The correct answer is A instead of B because the Internet can provide tools, information, and knowledge to crowdsourcing participants. However, there exist problems that cannot be solved in reasonable time, even with a distributed approach.\n",
    "    - Q60\n",
    "        - The correct answer is A and D because placing repeated code with procedure calls is an example of a procedural abstraction that may make it easier for a programmer to manage the complexity of a program.\n",
    "    - Q63\n",
    "        - The correct answer is B and D because if count is set to 0 repeatedly inside the loop, it will not provide an accurate count of the number of prime numbers in the list."
   ]
  },
  {
   "cell_type": "markdown",
   "metadata": {},
   "source": [
    "## Reflection - tri 1\n",
    "\n",
    "- Over the past 3 months, I not only learned different programming languages that I never met before, but also gained friends and teamwork.  \n",
    "    - In the past 3 months, I learned Python, HTML, Markdown, CSS, JavaScript, Pseudo Codes, etc...\n",
    "        - The codes that I'm pretty familiar with are HTML, CSS, and Pseudo Codes.\n",
    "            - HTML and CSS are because I was the main part of the FrontEnd in my Passion Project, Pseudo Codes is because I had Robotics last year and we used a lot of Pseudo Codes.\n",
    "        - Python and JavaScript are the programming languages that I definitely need to spend more time on so specialize in that area.\n",
    "    - Teamwork played a crucial role when we were doing the Passion Project.\n",
    "        - Everyone had their own role, and of course, the role that we all have is very important to the project. We all took the role and were be responsible not just for the grade, but also for the whole team's efforts."
   ]
  }
 ],
 "metadata": {
  "language_info": {
   "name": "python"
  },
  "orig_nbformat": 4
 },
 "nbformat": 4,
 "nbformat_minor": 2
}
