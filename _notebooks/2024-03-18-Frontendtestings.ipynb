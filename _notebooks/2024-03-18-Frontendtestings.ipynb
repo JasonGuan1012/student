{
 "cells": [
  {
   "cell_type": "markdown",
   "metadata": {},
   "source": [
    "---\n",
    "toc: true\n",
    "comments: false\n",
    "layout: post\n",
    "title: Frontend Testings\n",
    "description: Just testing the Frontend stuff...\n",
    "type: plans\n",
    "courses: { 'compsci': {week: 26} }\n",
    "---"
   ]
  },
  {
   "cell_type": "markdown",
   "metadata": {},
   "source": [
    "# **Default Frontend frame**"
   ]
  },
  {
   "cell_type": "markdown",
   "metadata": {},
   "source": [
    "<html lang=\"en\">\n",
    "<style>\n",
    "\n",
    "\n",
    "</style>\n",
    "  \n",
    "\n",
    "<body>\n",
    "\n",
    "\n",
    "\n",
    "</body>\n",
    "\n",
    "</html>\n",
    "\n"
   ]
  },
  {
   "cell_type": "markdown",
   "metadata": {},
   "source": [
    "# **Random Decoration**"
   ]
  },
  {
   "cell_type": "markdown",
   "metadata": {},
   "source": [
    "<html lang=\"en\">\n",
    "<style>\n",
    ".spinner {\n",
    "  position: relative;\n",
    "  width: 60px;\n",
    "  height: 60px;\n",
    "  display: flex;\n",
    "  justify-content: center;\n",
    "  align-items: center;\n",
    "  border-radius: 50%;\n",
    "  margin-left: -75px;\n",
    "}\n",
    ".spinner span {\n",
    "  position: absolute;\n",
    "  top: 50%;\n",
    "  left: var(--left);\n",
    "  width: 35px;\n",
    "  height: 7px;\n",
    "  background: #ffff;\n",
    "  animation: dominos 1s ease infinite;\n",
    "  box-shadow: 2px 2px 3px 0px black;\n",
    "}\n",
    ".spinner span:nth-child(1) {\n",
    "  --left: 80px;\n",
    "  animation-delay: 0.125s;\n",
    "}\n",
    ".spinner span:nth-child(2) {\n",
    "  --left: 70px;\n",
    "  animation-delay: 0.3s;\n",
    "}\n",
    ".spinner span:nth-child(3) {\n",
    "  left: 60px;\n",
    "  animation-delay: 0.425s;\n",
    "}\n",
    ".spinner span:nth-child(4) {\n",
    "  animation-delay: 0.54s;\n",
    "  left: 50px;\n",
    "}\n",
    ".spinner span:nth-child(5) {\n",
    "  animation-delay: 0.665s;\n",
    "  left: 40px;\n",
    "}\n",
    ".spinner span:nth-child(6) {\n",
    "  animation-delay: 0.79s;\n",
    "  left: 30px;\n",
    "}\n",
    ".spinner span:nth-child(7) {\n",
    "  animation-delay: 0.915s;\n",
    "  left: 20px;\n",
    "}\n",
    ".spinner span:nth-child(8) {\n",
    "  left: 10px;\n",
    "}\n",
    "@keyframes dominos {\n",
    "  50% {\n",
    "    opacity: 0.7;\n",
    "  }\n",
    "  75% {\n",
    "    -webkit-transform: rotate(90deg);\n",
    "    transform: rotate(90deg);\n",
    "  }\n",
    "  80% {\n",
    "    opacity: 1;\n",
    "  }\n",
    "}\n",
    "\n",
    "</style>\n",
    "  \n",
    "\n",
    "<body>\n",
    "\n",
    "<div class=\"spinner\">\n",
    "  <span></span>\n",
    "  <span></span>\n",
    "  <span></span>\n",
    "  <span></span>\n",
    "  <span></span>\n",
    "  <span></span>\n",
    "  <span></span>\n",
    "  <span></span>\n",
    "</div>\n",
    "\n",
    "</body>\n",
    "\n",
    "</html>\n",
    "\n"
   ]
  },
  {
   "cell_type": "markdown",
   "metadata": {},
   "source": [
    "# **Search Bar**"
   ]
  },
  {
   "cell_type": "markdown",
   "metadata": {},
   "source": [
    "<html lang=\"en\">\n",
    "<style>\n",
    ".input {\n",
    "  border-radius: 10px;\n",
    "  outline: 2px solid #FEBF00;\n",
    "  border: 0;\n",
    "  font-family: -apple-system, BlinkMacSystemFont, 'Segoe UI', Roboto, Oxygen, Ubuntu, Cantarell, 'Open Sans', 'Helvetica Neue', sans-serif;\n",
    "  background-color: #e2e2e2;\n",
    "  outline-offset: 3px;\n",
    "  padding: 10px 1rem;\n",
    "  transition: 0.25s;\n",
    "}\n",
    ".input:focus {\n",
    "  outline-offset: 5px;\n",
    "  background-color: #fff\n",
    "}\n",
    "\n",
    "</style>\n",
    "  \n",
    "\n",
    "<body>\n",
    "<input type=\"text\" placeholder=\"Write here...\" name=\"text\" class=\"input\">\n",
    "\n",
    "\n",
    "</body>\n",
    "\n",
    "</html>\n",
    "\n"
   ]
  },
  {
   "cell_type": "markdown",
   "metadata": {},
   "source": []
  }
 ],
 "metadata": {
  "kernelspec": {
   "display_name": "Python 3",
   "language": "python",
   "name": "python3"
  },
  "language_info": {
   "name": "python",
   "version": "3.10.12"
  }
 },
 "nbformat": 4,
 "nbformat_minor": 2
}
