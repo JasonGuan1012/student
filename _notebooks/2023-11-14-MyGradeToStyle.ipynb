{
 "cells": [
  {
   "cell_type": "markdown",
   "metadata": {},
   "source": [
    "---\n",
    "title: Class Notes - 11/14\n",
    "toc: true\n",
    "comments: false\n",
    "layout: post\n",
    "description: Class notes\n",
    "type: plans\n",
    "courses: {compsci: {'week': 13}}\n",
    "---"
   ]
  },
  {
   "cell_type": "markdown",
   "metadata": {},
   "source": [
    "- My Grade style to SASS\n",
    "> "
   ]
  }
 ],
 "metadata": {
  "language_info": {
   "name": "python"
  },
  "orig_nbformat": 4
 },
 "nbformat": 4,
 "nbformat_minor": 2
}
