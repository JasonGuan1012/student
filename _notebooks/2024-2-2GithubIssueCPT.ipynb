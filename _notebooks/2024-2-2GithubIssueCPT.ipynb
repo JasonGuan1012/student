{
 "cells": [
  {
   "cell_type": "markdown",
   "metadata": {},
   "source": [
    "---\n",
    "title: GitHub Issues for CPT\n",
    "toc: true\n",
    "comments: false\n",
    "layout: post\n",
    "description: GitHub Issues\n",
    "type: plans\n",
    "courses: {compsci: {'week': 21}}\n",
    "---"
   ]
  },
  {
   "cell_type": "markdown",
   "metadata": {},
   "source": [
    "### Authenticate in Postman…\n",
    "![image.png](https://i.ibb.co/5ccDVQc/Screenshot-2024-02-02-09-34-20.png)\n"
   ]
  }
 ],
 "metadata": {
  "language_info": {
   "name": "python"
  }
 },
 "nbformat": 4,
 "nbformat_minor": 2
}
