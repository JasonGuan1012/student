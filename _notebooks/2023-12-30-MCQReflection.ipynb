{
 "cells": [
  {
   "cell_type": "markdown",
   "metadata": {},
   "source": [
    "---\n",
    "title: MCQ Quiz Relfection\n",
    "toc: true\n",
    "comments: false\n",
    "layout: post\n",
    "description: MCQ Quiz Relfection\n",
    "type: plans\n",
    "courses: {compsci: {'week': 17}}\n",
    "---"
   ]
  },
  {
   "cell_type": "markdown",
   "metadata": {},
   "source": [
    "# CB Quiz Corrections\n",
    "\n",
    "- Here are the questions that I got wrong / Quiz Corrections\n",
    "    - Q6\n",
    "        - The correct answer is C instead of B because Program I correctly moves the robot to the gray square by repeatedly moving the robot forward, rotating left, moving forward twice, and rotating right.\n",
    "    - Q15\n",
    "        - The correct answer is A instead of B because both programs print the integer values starting at 1 and counting upward to 10.\n",
    "    - Q16\n",
    "        - The correct answer is D instead of A because the loop begins at the end of the list and moves to the start of the list, so index should be decremented, not incremented.\n",
    "    - Q20\n",
    "        - The correct answer is A instead of D because the two line graphs are roughly the same shape, indicating that the average amount of data stored per user remained about the same across all eight years.\n",
    "    - Q21\n",
    "        - The correct answer is B instead of A because the files that are up to 1 MB represent 17% + 24% + 25%, or 66%.\n",
    "    - Q22\n",
    "        - The correct answer is D instead of C because this code segment simulates a spinner in which there is a 6/8 chance of \"Lose a turn\", a 1/8 chance of \"Move 2 spaces\", and a 1/8 chance of \"Move 1 space\". \n",
    "    - Q23\n",
    "        - The correct answer is D instead of A because this expression would be equivalent to an algorithm that sets available to true whenever weekday is true or miles is less than 20.\n",
    "    - Q28\n",
    "        - The correct answer is B instead of D because code segment II assigns the initial value of alpha to temp, then assigns the initial value of alpha to beta. The initial value of alpha, which has been stored in temp, is then assigned to beta. \n",
    "    - Q30\n",
    "        - The correct answer is D instead of B because if n is initially 20, then the first IF condition will be true and n will be incremented by 1. The next IF condition will also be true because n is at least 1. The next IF condition will be false because n is less than 30. The next IF condition will be true because n is at least 10. Therefore, \"in range\" will be displayed.\n",
    "    - Q34\n",
    "        - The correct answer is C instead of A because in this code segment, the first call to BotMover moves the robot forward one square, rotates it right one time so that it faces right, and moves it forward one square.\n",
    "    - Q39\n",
    "        - The correct answer is C instead of B because making this change to the loop will cause the loop to terminate when i is 10, which does not fix the problem with the program.\n",
    "    - Q41\n",
    "        - The correct answer is C instead of A because it will first call TrimLeft to remove the eleven leftmost characters (the date tag). \n",
    "    - Q45\n",
    "        - The correct answer is D instead of B because in this code segment, the variable flip is assigned one of four values: 0, 1, 2, or 3. \n",
    "    - Q50\n",
    "        - The correct answer is D instead of B because algorithm I accesses elements 2n times (twice for each of n elements), which is considered reasonable time. \n",
    "    - Q56\n",
    "        - The correct answer is D instead of B because version I calls GetPrediction once for each element of idList, while version II calls GetPrediction twice for each element of idList (plus one more time at the end).\n",
    "    - Q58\n",
    "        - The correct answer is C instead of A because for this set of inputs, the IF condition x = y evaluates to false, so the body of the ELSE statement is executed. \n",
    "    - Q60\n",
    "        - The correct answer is D instead of A because for example, assume that list1 contains [10, 10, 20, 30, 40, 50, 60] and list2 contains [20, 20, 40, 60, 80]. The first line of code creates bothList, which contains [10, 10, 20, 30, 40, 50, 60, 20, 20, 40, 60, 80]. \n",
    "    - Q62\n",
    "        - The correct answer is A&B because since x OR y evaluates to true, the body of the IF statement is executed. Since x is true, true is displayed.\n",
    "    - Q63\n",
    "        - The correct answer is A&B because in order to perform the desired calculation, the selling price, the genre, and the quantity available are needed. The author is not needed.\n",
    "    - Q64\n",
    "        - The correct answer is B&D because for these values, the procedure repeatedly adds 2 to result five times, resulting in the intended product 10.\n",
    "    - Q65\n",
    "        - The correct answer is B&C because this code segment stores the substring \"lope\" in animal. It then concatenates \"lope\" and \"a\", storing the result \"lopea\" in animal.\n",
    "    - Q66\n",
    "        - The correct answer is A&C because this line should be removed. The variable count should increase by 1 when currentNum is a perfect number, so it should only be incremented in the body of the IF statement.\n",
    "    - Q67\n",
    "        - The correct answer is A&C because for this code segment, count is increased to 1 the first time \"maple\" is encountered in the list. "
   ]
  },
  {
   "cell_type": "markdown",
   "metadata": {},
   "source": [
    "# What I felt challenging\n",
    "\n",
    "- The questions that I felt that were challenging are the questions that you need to choose 2 answers. \n",
    "    - Those questions I got wrong the most because I always second second guess the answer that I put, which caused those questions wrong."
   ]
  },
  {
   "cell_type": "markdown",
   "metadata": {},
   "source": [
    "# What have I learned\n",
    "\n",
    "- What I felt that is challenging during the MCQ was when I saw the topics and questions that I was not really familiar with, I struggled with them and wasted a lot of time just on that one question.\n",
    "    - So in the future, I will think fast and think more concisely."
   ]
  },
  {
   "cell_type": "markdown",
   "metadata": {},
   "source": [
    "# What have I discovered\n",
    "\n",
    "- I found that there are still countless things that are waiting for me to discover because, throughout the entire quiz, there are so many questions that I don't know what to choose.\n",
    "- Second guesses often gets you wrong."
   ]
  }
 ],
 "metadata": {
  "kernelspec": {
   "display_name": "Python 3",
   "language": "python",
   "name": "python3"
  },
  "language_info": {
   "name": "python",
   "version": "3.10.12"
  }
 },
 "nbformat": 4,
 "nbformat_minor": 2
}
