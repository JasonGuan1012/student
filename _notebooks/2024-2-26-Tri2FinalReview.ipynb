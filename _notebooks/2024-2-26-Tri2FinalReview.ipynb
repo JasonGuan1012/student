{
 "cells": [
  {
   "cell_type": "markdown",
   "metadata": {},
   "source": [
    "---\n",
    "title: Tri 2 - Final Review\n",
    "toc: true\n",
    "comments: false\n",
    "layout: post\n",
    "description: Tri 2 Final Individual Review.\n",
    "type: tangibles\n",
    "courses: {compsci: {'week': 21}}\n",
    "---"
   ]
  },
  {
   "cell_type": "markdown",
   "metadata": {},
   "source": [
    "# CPT - Project Plannings\n",
    "\n",
    "<a href = \"http://localhost:4100/cptproject/c4.1/2024/01/12/CPTProjectIdeation_IPYNB_2_.html\">CPT Project Ideations</a>"
   ]
  },
  {
   "cell_type": "markdown",
   "metadata": {},
   "source": [
    "# CPT - Purpose of our CPT Project\n",
    "\n",
    "- Our purpose of this project is to help the people who trying to find authentic Chinese food. In our website, we will have a chinese food informational website that is based in San Diego and nearby.\n",
    "    - Allow users to search up any Chinese Restaurants nearby and in San Diego.\n",
    "    - Allow users to post comments for each Chinese Restaurants.\n",
    "        - Ratings from 1 - 10.\n",
    "    - Allow users to learn more about the Chinese 8 cuisines on the website."
   ]
  },
  {
   "cell_type": "markdown",
   "metadata": {},
   "source": [
    "# CPT - What did I contribute?\n",
    "\n",
    "## The main individual features\n",
    "\n",
    "### Frontend of the whole website\n",
    "\n",
    "<img src = \"https://i.ibb.co/cCjPMLL/Screenshot-2024-02-26-09-36-34.png\"> \n",
    "<br>\n",
    "\n",
    "\n",
    "### Debugging the Food Chart\n",
    "\n",
    "<img src = \"https://i.ibb.co/dmT1wH4/Screenshot-2024-02-26-09-39-48.png\">\n",
    "<br>\n",
    "\n",
    "### Customized Buttons\n",
    "\n",
    "<img src = \"https://i.ibb.co/bWTLFzy/Screenshot-2024-02-26-09-41-33.png\">\n",
    "\n",
    "<br>\n",
    "\n",
    "\n",
    "## Other things that I have created\n",
    "- Frontend of the Comments\n",
    "\n",
    "<img src = \"https://i.ibb.co/6wJp2Qs/Screenshot-2024-02-26-09-43-13.png\">\n",
    "\n"
   ]
  }
 ],
 "metadata": {
  "language_info": {
   "name": "python"
  }
 },
 "nbformat": 4,
 "nbformat_minor": 2
}
