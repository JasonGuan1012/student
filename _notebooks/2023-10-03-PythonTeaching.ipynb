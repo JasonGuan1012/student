{
 "cells": [
  {
   "cell_type": "markdown",
   "metadata": {},
   "source": [
    "---\n",
    "toc: true\n",
    "comments: true\n",
    "layout: post\n",
    "title: Student Teaching - Data Abstraction.\n",
    "description: First student teaching that teaches us Data Abstraction. (October 4th)\n",
    "type: plans\n",
    "courses: {compsci: {week: 7}}\n",
    "---"
   ]
  },
  {
   "cell_type": "code",
   "execution_count": 1,
   "metadata": {},
   "outputs": [
    {
     "name": "stdout",
     "output_type": "stream",
     "text": [
      "Jason\n"
     ]
    }
   ],
   "source": [
    "string = \"Jason\"\n",
    "print(string)"
   ]
  },
  {
   "cell_type": "code",
   "execution_count": 8,
   "metadata": {},
   "outputs": [
    {
     "name": "stdout",
     "output_type": "stream",
     "text": [
      "False\n"
     ]
    }
   ],
   "source": [
    "num = 123456\n",
    "string = \"number\"\n",
    "bool = False\n",
    "print(bool)"
   ]
  },
  {
   "cell_type": "code",
   "execution_count": 19,
   "metadata": {},
   "outputs": [
    {
     "name": "stdout",
     "output_type": "stream",
     "text": [
      "2 2 2\n"
     ]
    }
   ],
   "source": [
    "a = 1 #defining the variables\n",
    "b = 2\n",
    "c = 3\n",
    "\n",
    "a = c = b #making a and c equals to b\n",
    "\n",
    "print(a, b, c) #print"
   ]
  },
  {
   "cell_type": "code",
   "execution_count": 20,
   "metadata": {},
   "outputs": [
    {
     "name": "stdout",
     "output_type": "stream",
     "text": [
      "(1, 2, 3, 4, 5)\n"
     ]
    }
   ],
   "source": [
    "myList =  1, 2, 3, 4, 5 #Creating a list called \"myList\"\n",
    "\n",
    "print(myList) #Priting out the list."
   ]
  },
  {
   "cell_type": "code",
   "execution_count": 40,
   "metadata": {},
   "outputs": [
    {
     "name": "stdout",
     "output_type": "stream",
     "text": [
      "{'MacBook = 2017  Clock = 0  Trash = 1234567890'}\n"
     ]
    }
   ],
   "source": [
    "items = {\n",
    "    \"MacBook = 2017  \" #Macbook, got it since 2017.\n",
    "    \n",
    "    \"Clock = 0  \" #Cloke, broke.\n",
    "    \n",
    "    \"Trash = 1234567890\" #trash everywhere, unstopable.\n",
    "\n",
    "}\n",
    "\n",
    "print(items)\n",
    "\n"
   ]
  },
  {
   "cell_type": "markdown",
   "metadata": {},
   "source": [
    "# Data Abstraction HW\n",
    "- Create a class called Person with the attributes name and age. Then create a function called print_people that takes in a list of people and prints out their names and ages.\n",
    "- Create a function that takes in a dictionary of people and their ages and prints out the name of the oldest person."
   ]
  },
  {
   "cell_type": "code",
   "execution_count": 13,
   "metadata": {},
   "outputs": [
    {
     "name": "stdout",
     "output_type": "stream",
     "text": [
      "Jason is 15 years old\n",
      "Jim is 14 years old\n",
      "Micky is 47 years old\n",
      "Beth is 39 years old\n"
     ]
    }
   ],
   "source": [
    "people = {\n",
    "    \"Jason\" : 15,\n",
    "    \"Jim\" : 14,\n",
    "    \"Micky\" : 47,\n",
    "    \"Beth\" : 39\n",
    "} #this is the dictionary called \"people\".\n",
    "\n",
    "\n",
    "for person in people:\n",
    "    print(person + \" is \" + str(people[person]) + \" years old\" )\n"
   ]
  }
 ],
 "metadata": {
  "kernelspec": {
   "display_name": "Python 3",
   "language": "python",
   "name": "python3"
  },
  "language_info": {
   "codemirror_mode": {
    "name": "ipython",
    "version": 3
   },
   "file_extension": ".py",
   "mimetype": "text/x-python",
   "name": "python",
   "nbconvert_exporter": "python",
   "pygments_lexer": "ipython3",
   "version": "3.10.12"
  },
  "orig_nbformat": 4
 },
 "nbformat": 4,
 "nbformat_minor": 2
}
