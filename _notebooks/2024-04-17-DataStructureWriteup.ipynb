{
 "cells": [
  {
   "cell_type": "markdown",
   "metadata": {},
   "source": [
    "---\n",
    "toc: true\n",
    "comments: false\n",
    "layout: post\n",
    "title: Data Structure Writeup\n",
    "description: Data Structure Writeup....\n",
    "type: plans\n",
    "courses: { compsci: {week: 27} }\n",
    "---"
   ]
  },
  {
   "cell_type": "markdown",
   "metadata": {},
   "source": [
    "# **Collections**\n",
    "\n",
    "## From VSCode using SQLite3 Editor, show your unique collection/table in database, display rows and columns in the table of the SQLite database.\n",
    "#### As shown below, a screenshot that shows the table in database while it's displays as rows and columns in the table of the SQLite database.\n",
    "![picture](https://i.ibb.co/1zZJjqb/image.png)\n",
    "## From VSCode model, show your unique code that was created to initialize table and create test data.\n",
    "#### This code below is all about making sure our Flask app runs smoothly. It help us keep things fresh by preventing caching, manages user sessions securely, and ensures that only logged-in folks can access certain parts of our app, using tokens and a trusty SQLite database, etc...\n",
    "![picture](https://i.ibb.co/x3ptYZj/image.png)\n",
    "#### This function is linked to the 'leaderboard' route in our Flask app which handles incoming POST requests from the frontend. It extracts data like user ID and points to add from a JSON payload. And then, it connects to a SQLite database, retrieves the user's current points, updates them with the provided points, and commits the changes. Finally, it responds with a JSON message confirming the successful leaderboard update.\n",
    "![picture](https://i.ibb.co/5cZCmKX/Screenshot-2024-04-17-14-17-59.png)\n",
    "![picture](https://i.ibb.co/D5zW5fv/image.png)\n",
    "#### This function sets up test data for user profiles and notes in our Flask app, and creating a SQLite database and tables if it's needed. It generates sample user profiles with names, IDs, passwords, birthdates, job info, and roles, etc... along with random notes associated with each user. \n",
    "![picture](https://i.ibb.co/PN5Q4Yv/image.png)\n",
    "#### This codes sets up a User class for managing data in the 'users' table using SQLAlchemy ORM. It defines attributes like name, ID, password, birthdate, job details, and role, etc... It also establishes a relationship between users and their posts, allowing for easy management. The constructor initializes User objects with provided data, setting defaults as needed.\n",
    "![picture](https://i.ibb.co/H4WVB4j/image.png)"
   ]
  },
  {
   "cell_type": "markdown",
   "metadata": {},
   "source": [
    "# **Lists and Dictionaries**\n",
    "#### Here is an example of a list. This code ensures that requests are only allowed from specific origins listed in the predefined list. If a request comes from an allowed origin, the CORS policy is adjusted to allow requests from that origin. So, when I set a breakpoint to this code and run our song picker, the code fails. Once these key values are removed, the code fails to function, and the backend breaks down. \n",
    "![image](https://i.ibb.co/n6nPHkp/image.png)\n",
    "#### Here's another instance of a similar situation can be seen in:\n",
    "![image](https://i.ibb.co/k3ZT74T/image.png)\n",
    "![image](https://i.ibb.co/1RKhXXD/image.png)\n",
    "![image](https://i.ibb.co/tYC3RjH/image.png)"
   ]
  },
  {
   "cell_type": "markdown",
   "metadata": {},
   "source": [
    "# **APIs and JSON**\n",
    "#### This can be seen in the register function. This piece of code manages user registration, so when someone tries to register, it checks if they provided a username, password, and confirmation. If any of these are missing, it tells them to fill them in. If everything is provided, it checks if the username is already taken. If not, it adds the new user to the system. If the username is already taken, it tells the user to pick a different one.\n",
    "![image](https://i.ibb.co/j82Cpsp/image.png)\n",
    "![image](https://i.ibb.co/B3mkNwc/image.png)\n",
    "\n",
    "\n",
    "## In VSCode, show algorithmic conditions used to validate data on a POST condition.\n",
    "####\n",
    "![picture](https://i.ibb.co/LC6Jx73/image.png)\n",
    "## In Postman, show URL request and Body requirements for GET, POST, and UPDATE methods.\n",
    "#### The potentiall reason for this to fail for **GET** Method is that it might be the URL might be wrong or the server might be down or there could be internet connection issues.\n",
    "#### The potentiall reason for this to fail for **POST** Method is that the URL might be incorrect or unreachable, the request body could be missing necessary info or improperly formatted or that the authorization might be required but not provided.\n",
    "#### The potentiall reason for this fail for **UPDATE** Methoad is that the URL might be wrong or inaccessible, or the request body might lack crucial details or be incorrectly structured, or the user ID provided might not exist.\n",
    "![picture](https://i.ibb.co/KhFNtyp/image.png) \n",
    "## In Postman, show the JSON response data for 200 success conditions on GET, POST, and UPDATE methods.\n",
    "#### The postman might fail in this circumstances might be the server issues or the misconfiguration that it could lead to an wrong response, or it's because the Postman might struggle to interpret the response if it's not in the expected format.\n",
    "![picture](https://i.ibb.co/nkLbd6N/image.png)\n",
    "## In Postman, show the JSON response for error for 400 when missing body on a POST request.\n",
    "#### The postman might fail in this circumstances might because that postman might not understand the error message if it's not clear or not in the correct format...\n",
    "![picture](https://i.ibb.co/BBfLkJW/image.png) \n",
    "## In Postman, show the JSON response for error for 404 when providing an unknown user ID to a UPDATE request.\n",
    "#### It might not go through because if the error message is vague or not properly formatted, Postman might struggle to interpret it.\n",
    "![picture](https://i.ibb.co/PNd1ZnV/image.png)\n",
    "\n"
   ]
  },
  {
   "cell_type": "markdown",
   "metadata": {},
   "source": [
    "# **Frontend**\n",
    "## Blog JavaScript API fetch code and formatting code to display JSON.\n",
    "### In Chrome inspect, show response of JSON objects from fetch of GET, POST, and UPDATE methods. Code breaking in login\n",
    "![picture](https://i.ibb.co/W22nsBr/image.png)\n",
    "### In the Chrome browser, show a demo (GET) of obtaining an Array of JSON objects that are formatted into the browsers screen.\n",
    "#### Below is how all the objects in squares...\n",
    "![picture](https://i.ibb.co/9cLVVX4/image.png)\n",
    "![picture](https://i.ibb.co/WnqTht3/image.png)\n",
    "\n",
    "### In JavaScript code, describe fetch and method that obtained the Array of JSON objects.\n",
    "- At the top\n",
    "    - First, we send a request to the website's address, asking for a list of songs.\n",
    "    - Then, we gather that list and go through it, making a special section for each song.\n",
    "- At the bottom\n",
    "    - This part is just to show how we make those sections using a tool called JQuery.\n",
    "    - We start by making a box, and inside it, we put a picture and a little symbol that you can click on.\n",
    "### In the Chrome browser, show a demo (POST or UPDATE) gathering and sending input and receiving a response that show update. Repeat this demo showing both success and failure.\n",
    "![picture](https://i.ibb.co/m02cv8S/image.png)\n",
    "![picture](https://i.ibb.co/9m0pJ2j/image.png)\n",
    "#### In JavaScript code, show and describe code that handles success. Describe how code shows success to the user in the Chrome Browser screen.\n",
    "- If the backend manages to add the text to the image, the frontend will show the song blocks, letting you know it worked.\n",
    "- You'll also be able to play the songs.\n",
    "#### In JavaScript code, show and describe code that handles failure. Describe how the code shows failure to the user in the Chrome Browser screen\n",
    "- If there's an issue with the API, you'll get an alert with the error from the backend.\n",
    "\n"
   ]
  }
 ],
 "metadata": {
  "language_info": {
   "name": "python"
  }
 },
 "nbformat": 4,
 "nbformat_minor": 2
}
