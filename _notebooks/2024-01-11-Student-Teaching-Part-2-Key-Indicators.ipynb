{
 "cells": [
  {
   "cell_type": "markdown",
   "metadata": {},
   "source": [
    "---\n",
    "title: Student Teaching Part 2 + Key Indicators\n",
    "toc: true\n",
    "comments: false\n",
    "layout: post\n",
    "description: Student Teaching Part 2 + Key Indicators\n",
    "type: plans\n",
    "courses: {compsci: {'week': 16}}\n",
    "---"
   ]
  },
  {
   "cell_type": "markdown",
   "metadata": {},
   "source": [
    "|                   | Score, Grader Verification | Extras | Key Indicators: Blog, GitHub File(s) and Key Commits |\n",
    "| :---------------- | :------------------------: |------: | ---------------------------------------------------: |\n",
    "| The Internet | 0.93 | Trying to give the question a good explanation | https://github.com/JasonGuan1012/student/blob/main/Tri2%20Student%20Teachings/2023-11-27-internet.ipynb |\n",
    "| Routing and Computing | us | us | us |\n",
    "| Beneficial and Harmful Effect| 0.9 | none | https://github.com/JasonGuan1012/student/blob/main/Tri2%20Student%20Teachings/2023-11-16-Beneficial-and-Harmful-Effect.ipynb |\n",
    "| Digital Divide | 0.9 | none | https://github.com/JasonGuan1012/student/blob/main/Tri2%20Student%20Teachings/2023-12-07-TeamTeach.ipynb |\n",
    "| Computing Bias | 0.95 | Came up with a pretty clear and good explanation | https://github.com/JasonGuan1012/student/blob/main/Tri2%20Student%20Teachings/2023-12-12-Computing-Bias.ipynb |\n",
    "| Crowdsourcing\t | 0 (Wasn't at school because of sickness) | (Wasn't at school because of sickness) | (Wasn't at school because of sickness) |\n",
    "| Legal Ethical Concerns | 0 (Wasn't at school because of sickness) | (Wasn't at school because of sickness) | (Wasn't at school because of sickness) |\n",
    "| Safe Computing | 0.85 | Really trying to get the answer right and double checked this time | It's a google Form. I got 9/11 |\n",
    "| CB Quiz | 44/67 | Trying my best to answer all the questoins eventhough there were a lot of questions that I don't know how to answer | https://github.com/JasonGuan1012/student/blob/main/_notebooks/2023-12-30-MCQReflection.ipynb |\n",
    "|  |  |  |  |   |\n",
    "| Totals | Median Score: 0.95 | Number complete: 7/9 | Extra effort count: 5/9 | Key tangible assets count: |\n"
   ]
  }
 ],
 "metadata": {
  "kernelspec": {
   "display_name": "Python 3",
   "language": "python",
   "name": "python3"
  },
  "language_info": {
   "name": "python",
   "version": "3.10.12"
  },
  "orig_nbformat": 4
 },
 "nbformat": 4,
 "nbformat_minor": 2
}
