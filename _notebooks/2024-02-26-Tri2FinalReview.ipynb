{
 "cells": [
  {
   "cell_type": "markdown",
   "metadata": {},
   "source": [
    "---\n",
    "title: Tri 2 - Final Review\n",
    "toc: true\n",
    "comments: false\n",
    "layout: post\n",
    "description: Tri 2 Final Individual Review.\n",
    "type: tangibles\n",
    "courses: {compsci: {'week': 21}}\n",
    "---"
   ]
  },
  {
   "cell_type": "markdown",
   "metadata": {},
   "source": [
    "# CPT - Project Plannings\n",
    "\n",
    "<a href = \"http://localhost:4100/cptproject/c4.1/2024/01/12/CPTProjectIdeation_IPYNB_2_.html\">CPT Project Ideations</a>"
   ]
  },
  {
   "cell_type": "markdown",
   "metadata": {},
   "source": [
    "# CPT - Purpose of our CPT Project\n",
    "\n",
    "- Our purpose of this project is to help the people who trying to find authentic Chinese food. In our website, we will have a chinese food informational website that is based in San Diego and nearby.\n",
    "    - Allow users to search up any Chinese Restaurants nearby and in San Diego.\n",
    "    - Allow users to post comments for each Chinese Restaurants.\n",
    "        - Ratings from 1 - 10.\n",
    "    - Allow users to learn more about the Chinese 8 cuisines on the website."
   ]
  },
  {
   "cell_type": "markdown",
   "metadata": {},
   "source": [
    "# CPT - What did I contribute?\n",
    "\n",
    "## The main individual features\n",
    "\n",
    "### Frontend of the whole website\n",
    "\n",
    "<img src = \"https://i.ibb.co/cCjPMLL/Screenshot-2024-02-26-09-36-34.png\"> \n",
    "<br>\n",
    "\n",
    "#### Designing every blog covers\n",
    "- example: Blog Cover for \"Comments\" \n",
    "<img src = \"https://i.ibb.co/Gd2GpQk/Comments-cover-CPTPROJECT.png\">\n",
    "<br>\n",
    "\n",
    "### Debugging the Food Chart\n",
    "\n",
    "<img src = \"https://i.ibb.co/dmT1wH4/Screenshot-2024-02-26-09-39-48.png\">\n",
    "<br>\n",
    "\n",
    "### Customized Buttons\n",
    "\n",
    "<img src = \"https://i.ibb.co/bWTLFzy/Screenshot-2024-02-26-09-41-33.png\">\n",
    "\n",
    "<br>\n",
    "\n",
    "\n",
    "## Other things that I have created\n",
    "- Frontend of the Comments\n",
    "\n",
    "<img src = \"https://i.ibb.co/hVZ5gLY/image.png\">\n",
    "\n",
    "\n"
   ]
  },
  {
   "cell_type": "markdown",
   "metadata": {},
   "source": [
    "# CPT Requirements\n",
    "- Instructions for input from one of the following: the user (including user actions that trigger events), a device, an online data stream, a file\n",
    "- Use of at least one list (or other collection type) to represent a collection of data that is stored and used to manage program complexity and help fulfill the program’s purpose\n",
    "- At least one procedure that contributes to the program’s intended purpose, where you have defined the procedure’s name, the return type (if necessary), and one or more parameters\n",
    "- An algorithm that includes sequencing, selection, and iteration that is in the body of the selected procedure\n",
    "- Calls to your student-developed procedure\n",
    "- Instructions for output (tactile, audible, visual, or textual) based on input and program functionality\n",
    "\n",
    "### Instructions for input from one of the following: the user (including user actions that trigger events), a device, an online data stream, a file\n",
    "> For our user login project, we need both JWT tokens and user credentials.\n",
    "\n",
    "### Use of at least one list (or other collection type) to represent a collection of data that is stored and used to manage program complexity and help fulfill the program’s purpose\n",
    "> We rely on SQLite tables to store and handle information regarding both users and comments within our system. As you could see below...\n",
    "<img src = \"https://i.ibb.co/q9gJZwT/image.png\">\n",
    "\n",
    "### At least one procedure that contributes to the program’s intended purpose, where you have defined the procedure’s name, the return type (if necessary), and one or more parameters\n",
    "> Our \"redirect\" function ensures that users store their UID; failure triggers an error message. It utilizes the \"data\" parameter containing name, UID, and password for verification against the user.py database. \n",
    "\n",
    "### An algorithm that includes sequencing, selection, and iteration that is in the body of the selected procedure\n",
    "> In our user login process, we employ an \"if\" function to determine the correctness of the provided password. As you could see down below:\n",
    "<img src = \"https://i.ibb.co/QF4Mqjq/image.png\">\n",
    "\n",
    "### Calls to your student-developed procedure\n",
    "> The Search Bar is still in progress... But it will work once the real API is developed.\n",
    "\n",
    "### Instructions for output (tactile, audible, visual, or textual) based on input and program functionality\n",
    "> When users log in, they're smoothly taken to their accounts, where their comments are still there for them to see and use.\n"
   ]
  },
  {
   "cell_type": "markdown",
   "metadata": {},
   "source": [
    "# CPT - Commits\n",
    "\n",
    "## Key Commits\n",
    "> <a href = \"https://github.com/AaronH1234/cptproject/commit/caeeb1c930a85034cf55e9073c939903387dfc16\">Frontend for \"Comments\"</a>\n",
    "\n",
    "> <a href = \"https://github.com/AaronH1234/cptproject/commit/de8172e33697975f16825a9ec606796a444448d4\">Customized Buttons for different purpose of use</a>\n",
    "\n",
    "> <a href = \"https://github.com/AaronH1234/cptproject/commit/7c7c8613e3ee0c0097f252748d7bb85dca93b495\">Customized Login/Signup Page(never connected to backend)</a>\n",
    "\n",
    "\n",
    "### Commits\n",
    "> <img src = \"https://i.ibb.co/2tsHbwK/image.png\">\n",
    "\n",
    "> <img src = \"https://i.ibb.co/Hggy9yZ/image.png\">\n"
   ]
  }
 ],
 "metadata": {
  "language_info": {
   "name": "python"
  }
 },
 "nbformat": 4,
 "nbformat_minor": 2
}
