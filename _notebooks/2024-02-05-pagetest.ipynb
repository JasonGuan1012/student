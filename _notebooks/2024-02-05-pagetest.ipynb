{
 "cells": [
  {
   "cell_type": "markdown",
   "metadata": {},
   "source": [
    "---\n",
    "title: Page Test\n",
    "toc: true\n",
    "comments: false\n",
    "layout: post\n",
    "description: GitHub Issues\n",
    "type: tangibles\n",
    "courses: {compsci: {'week': 19}}\n",
    "---"
   ]
  },
  {
   "cell_type": "markdown",
   "metadata": {},
   "source": [
    "WELCOME TO THE PAGE TEST............"
   ]
  }
 ],
 "metadata": {
  "language_info": {
   "name": "python"
  }
 },
 "nbformat": 4,
 "nbformat_minor": 2
}
