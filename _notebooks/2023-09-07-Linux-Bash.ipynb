{
 "cells": [
  {
   "cell_type": "markdown",
   "metadata": {},
   "source": [
    "---\n",
    "title: Linux Bash\n",
    "layout: post\n",
    "description: Linux Bash\n",
    "type: hacks\n",
    "courses: {compsci: {'week': 3}}\n",
    "---"
   ]
  },
  {
   "cell_type": "code",
   "execution_count": 7,
   "metadata": {
    "vscode": {
     "languageId": "shellscript"
    }
   },
   "outputs": [
    {
     "name": "stdout",
     "output_type": "stream",
     "text": [
      "Ruby is installed\n",
      "Python is installed\n",
      "jupyter is installed\n",
      "Current directory:  + /home/kasm-user\n",
      "vscode directory exists\n"
     ]
    }
   ],
   "source": [
    "%%script bash\n",
    "\n",
    "command_output=\"$(ruby -v)\"\n",
    "if [[ \"$command_output\" != \"ruby 3.0.2p107 (2021-07-07 revision 0db68f0233) [x86_64-linux-gnu]\" ]]; then\n",
    "    echo \"Ruby is not installed. Installing Ruby\"\n",
    "    apt install ruby\n",
    "else\n",
    "    echo \"Ruby is installed\"\n",
    "fi #If the ruby is not installed, then the system will install Ruby by itself. If the ruby is installed, then the system will print out \"Ruby is installed\".\n",
    "\n",
    "\n",
    "command_output=\"$(python -V)\"\n",
    "if [[ \"$command_output\" != \"Python 3.10.12\" ]]; then\n",
    "    echo \"Python is not installed. Installing Python\"\n",
    "    apt install python\n",
    "else\n",
    "    echo \"Python is installed\"\n",
    "fi #If the Python is not installed, then the system will install Python by itself. If the Python is installed, then the system will print out \"Python is installed\".\n",
    "\n",
    "\n",
    "command_output=\"$(jupyter --v)\"\n",
    "if [[ \"$command_output\" != \"Selected Jupyter core packages...\n",
    "IPython          : 7.31.1\n",
    "ipykernel        : 6.7.0\n",
    "ipywidgets       : 6.0.0\n",
    "jupyter_client   : 7.1.2\n",
    "jupyter_core     : 4.9.1\n",
    "jupyter_server   : not installed\n",
    "jupyterlab       : not installed\n",
    "nbclient         : 0.5.6\n",
    "nbconvert        : 6.4.0\n",
    "nbformat         : 5.1.3\n",
    "notebook         : 6.4.8\n",
    "qtconsole        : not installed\n",
    "traitlets        : 5.1.1\" ]]; then\n",
    "    echo \"jupyter is not installed. Installing jupyter\"\n",
    "    apt install jupyter\n",
    "else\n",
    "    echo \"jupyter is installed\"\n",
    "fi #If the jupyter is not installed, then the system will install jupyter by itself. If the jupyter is installed, then the system will print out \"jupyter is installed\".\n",
    "\n",
    "cd \n",
    "echo \"Current directory: \" + $(pwd)\n",
    "if [[ $(ls | grep \"vscode\") == \"vscode\" ]]; then\n",
    "    echo \"vscode directory exists\"\n",
    "else\n",
    "    mkdir \"$current_directory/vscode\"  # Create the directory in the current directory\n",
    "    echo \"Creating vscode directory\"\n",
    "fi\n",
    "\n",
    "\n",
    "\n"
   ]
  }
 ],
 "metadata": {
  "kernelspec": {
   "display_name": "Python 3",
   "language": "python",
   "name": "python3"
  },
  "language_info": {
   "codemirror_mode": {
    "name": "ipython",
    "version": 3
   },
   "file_extension": ".py",
   "mimetype": "text/x-python",
   "name": "python",
   "nbconvert_exporter": "python",
   "pygments_lexer": "ipython3",
   "version": "3.10.12"
  },
  "orig_nbformat": 4
 },
 "nbformat": 4,
 "nbformat_minor": 2
}
