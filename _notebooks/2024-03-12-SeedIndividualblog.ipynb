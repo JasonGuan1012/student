{
 "cells": [
  {
   "cell_type": "markdown",
   "metadata": {},
   "source": [
    "---\n",
    "title: Seed (Individual)\n",
    "toc: true\n",
    "comments: false\n",
    "layout: post\n",
    "description: Seed (Individual).\n",
    "type: tangibles\n",
    "courses: {compsci: {'week': 22}}\n",
    "---"
   ]
  },
  {
   "cell_type": "markdown",
   "metadata": {},
   "source": [
    "# **Individual Progress**\n",
    "\n",
    "## Key Commits\n",
    "> <a href = \"https://github.com/AaronH1234/cptproject/commit/caeeb1c930a85034cf55e9073c939903387dfc16\">Key Commit #1, frontend for the \"Comment\"</a>\n",
    "<img src = \"https://i.ibb.co/hVZ5gLY/image.png\">\n",
    "\n",
    "> <a href = \"https://github.com/rliao569/Tri2Repo/commit/f1b45c1cdcfe8e3c49913c0d9d72aa750aad8810\">Key Commit #2, Costumized Button</a>\n",
    "<img src = \"https://i.ibb.co/bWTLFzy/Screenshot-2024-02-26-09-41-33.png\">\n",
    "\n",
    "> <a href = \"https://github.com/AaronH1234/cptproject/commit/7c7c8613e3ee0c0097f252748d7bb85dca93b495\">Key Commit #3, Frontend for the Login/Signup page.(However, it's never being used in the cptproject)\n",
    "<img src = \"https://i.ibb.co/9q4WjNr/image.png\">\n",
    "\n"
   ]
  },
  {
   "cell_type": "markdown",
   "metadata": {},
   "source": [
    "# GitHub Analystics\n",
    "\n",
    "- 2023\n",
    "> <img src = \"https://i.ibb.co/6FWvWpK/image.png\">\n",
    "\n",
    "- 2024\n",
    "> <img src = \"https://i.ibb.co/hXS4HHT/image.png\">"
   ]
  },
  {
   "cell_type": "markdown",
   "metadata": {},
   "source": [
    "# Academic Grade in Tri 2 for APCSP\n",
    "\n",
    "> <img src = \"https://i.ibb.co/9WfjPWK/image.png\">"
   ]
  },
  {
   "cell_type": "markdown",
   "metadata": {},
   "source": []
  }
 ],
 "metadata": {
  "kernelspec": {
   "display_name": "Python 3",
   "language": "python",
   "name": "python3"
  },
  "language_info": {
   "name": "python",
   "version": "3.10.12"
  }
 },
 "nbformat": 4,
 "nbformat_minor": 2
}
