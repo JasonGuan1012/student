{
 "cells": [
  {
   "cell_type": "markdown",
   "metadata": {},
   "source": [
    "---\n",
    "toc: true\n",
    "comments: false\n",
    "layout: post\n",
    "title: Data Structure Writeup\n",
    "description: Data Structure Writeup....\n",
    "type: plans\n",
    "courses: { compsci: {week: 27} }\n",
    "---"
   ]
  },
  {
   "cell_type": "markdown",
   "metadata": {},
   "source": [
    "# **Collections**\n",
    "\n",
    "- From VSCode using SQLite3 Editor, show your unique collection/table in database, display rows and columns in the table of the SQLite database.\n",
    "    - ![picture](https://i.ibb.co/tXHhLhb/Screenshot-2024-04-17-14-12-34.png)\n",
    "- From VSCode model, show your unique code that was created to initialize table and create test data.\n",
    "    - ![picture](https://i.ibb.co/F0Wc94P/Screenshot-2024-04-17-14-17-17.png)\n",
    "    - ![picture](https://i.ibb.co/5cZCmKX/Screenshot-2024-04-17-14-17-59.png)"
   ]
  }
 ],
 "metadata": {
  "language_info": {
   "name": "python"
  }
 },
 "nbformat": 4,
 "nbformat_minor": 2
}
